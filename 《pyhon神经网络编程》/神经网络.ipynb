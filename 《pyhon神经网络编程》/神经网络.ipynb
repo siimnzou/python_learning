{
 "cells": [
  {
   "cell_type": "code",
   "execution_count": 9,
   "id": "e5cd28a3",
   "metadata": {},
   "outputs": [],
   "source": [
    "import numpy as np\n",
    "import scipy.special\n",
    "#神经网络\n",
    "class neuralnetwork:\n",
    "\n",
    "    #初始化网络（设置输入层，隐藏层，输出层数目以及学习率）\n",
    "    def __init__(self,inputnodes,hiddennodes,outputnodes,learningrate):\n",
    "        self.inputnodes = inputnodes\n",
    "        self.hiddennodes = hiddennodes\n",
    "        self.outputnodes = outputnodes\n",
    "        self.learningrate = learningrate\n",
    "    #初始化权重值(生成-0.5 到 0.5 之间的随机权重)\n",
    "        #self.weight_input_hidden  = np.random.rand(inputnodes,hiddennodes)- 0.5\n",
    "        #self.weight_hidden_output = np.random.rand(hiddennodes,outputnodes)- 0.5\n",
    "        #以上为简单的生成随机数的方法，下面为更为复杂的一种随机数生成方法\n",
    "        #使用正态分布概率分布采样权重，其中的平均值为0，标准差为加点连接数目的开方\n",
    "        self.weight_input_hidden  = np.random.normal(0.0 ,pow(self.hiddennodes,-0.5),(hiddennodes,inputnodes))\n",
    "        self.weight_hidden_output = np.random.normal(0.0 ,pow(self.outputnodes,-0.5),(outputnodes,hiddennodes))\n",
    "        #sigmoid函数定义\n",
    "        self.sigmoid = lambda x : scipy.special.expit(x)\n",
    "    def train(self,inputs_list,targets_list):\n",
    "        inputs  = np.array(inputs_list ,ndmin = 2).T\n",
    "        targets = np.array(targets_list,ndmin = 2).T\n",
    "        #计算隐藏层的输入\n",
    "        hidden_inputs  = np.dot(self.weight_input_hidden,inputs)\n",
    "        #计算隐藏层的输出\n",
    "        hidden_outputs = self.sigmoid(hidden_inputs)\n",
    "        #计算输出层的输入\n",
    "        output_inputs = np.dot(self.weight_hidden_output,hidden_outputs)\n",
    "        #计算输出层的输出\n",
    "        output_outputs = self.sigmoid(output_inputs)\n",
    "        #计算输出层误差\n",
    "        output_errors  = targets - output_outputs\n",
    "        #计算隐层误差\n",
    "        hidden_errors  = np.dot(self.weight_hidden_output.T ,output_errors)\n",
    "        #梯度下降方法更新权重\n",
    "        self.weight_hidden_output +=  self.learningrate*np.dot((output_errors*output_outputs*(1.0-output_outputs)),hidden_outputs.T)\n",
    "        self.weight_input_hidden  +=  self.learningrate*np.dot((hidden_errors*hidden_outputs*(1.0-hidden_outputs)),inputs.T)\n",
    "    def query(self,inputs_list):\n",
    "        inputs = np.array(inputs_list,ndmin = 2).T\n",
    "        #计算隐藏层的输入\n",
    "        hidden_inputs  = np.dot(self.weight_input_hidden,inputs)\n",
    "        #计算隐藏层的输出\n",
    "        hidden_outputs = self.sigmoid(hidden_inputs)\n",
    "        #计算输出层的输入\n",
    "        output_inputs = np.dot(self.weight_hidden_output,hidden_outputs)\n",
    "        #计算输出层的输出\n",
    "        output_outputs = self.sigmoid(output_inputs)        \n",
    "        return output_outputs\n",
    "        "
   ]
  },
  {
   "cell_type": "code",
   "execution_count": 4,
   "id": "6813ddf6",
   "metadata": {},
   "outputs": [],
   "source": [
    "#将MNIST原数据转换为CSV格式数据\n",
    "# def convert(imgf, labelf, outf, n):\n",
    "#     f = open(imgf, \"rb\")\n",
    "#     o = open(outf, \"w\")\n",
    "#     l = open(labelf, \"rb\")\n",
    "\n",
    "#     f.read(16)\n",
    "#     l.read(8)\n",
    "#     images = []\n",
    "\n",
    "#     for i in range(n):\n",
    "#         image = [ord(l.read(1))]\n",
    "#         for j in range(28*28):\n",
    "#             image.append(ord(f.read(1)))\n",
    "#         images.append(image)\n",
    "\n",
    "#     for image in images:\n",
    "#         o.write(\",\".join(str(pix) for pix in image)+\"\\n\")\n",
    "#     f.close()\n",
    "#     o.close()\n",
    "#     l.close()\n",
    "\n",
    "# convert(\"train-images.idx3-ubyte\", \"train-labels.idx1-ubyte\",\n",
    "#         \"mnist_train1.csv\", 60000)\n",
    "# convert(\"t10k-images.idx3-ubyte\", \"t10k-labels.idx1-ubyte\",\n",
    "#         \"mnist_test1.csv\", 10000)"
   ]
  },
  {
   "cell_type": "code",
   "execution_count": 10,
   "id": "d56c34d6",
   "metadata": {},
   "outputs": [],
   "source": [
    "#打开数据文件，读入数据\n",
    "data_file = open('mnist_train1.csv','r')\n",
    "data_list = data_file.readlines()\n",
    "data_file.close()"
   ]
  },
  {
   "cell_type": "code",
   "execution_count": 61,
   "id": "4ac4c3d6",
   "metadata": {
    "scrolled": true
   },
   "outputs": [],
   "source": [
    "#根据数据集中的数据训练神经网络\n",
    "import numpy as np\n",
    "import matplotlib.pyplot as plt\n",
    "\n",
    "input_nodes   = 784\n",
    "hidden_nodes  = 100\n",
    "output_nodes  = 10\n",
    "learning_rate = 0.5\n",
    "\n",
    "n = neuralnetwork(input_nodes,hidden_nodes,output_nodes,learning_rate)\n",
    "\n",
    "for data in data_list:\n",
    "    values = data.split(',')\n",
    "    image_data = np.asfarray(values[1:])\n",
    "    inputs = (image_data/255.0 * 0.99) + 0.01\n",
    "    targets = np.zeros(output_nodes) + 0.01\n",
    "    targets[int(values[0])] = 0.99\n",
    "    n.train(inputs,targets)"
   ]
  },
  {
   "cell_type": "code",
   "execution_count": 28,
   "id": "fb3de2d9",
   "metadata": {},
   "outputs": [],
   "source": [
    "#打开测试数据文件，读入数据\n",
    "test_file = open('mnist_test1.csv','r')\n",
    "test_list = test_file.readlines()\n",
    "test_file.close()"
   ]
  },
  {
   "cell_type": "code",
   "execution_count": 42,
   "id": "f82c5448",
   "metadata": {},
   "outputs": [
    {
     "data": {
      "text/plain": [
       "0"
      ]
     },
     "execution_count": 42,
     "metadata": {},
     "output_type": "execute_result"
    }
   ],
   "source": [
    "#根据测试集来判断该数字\n",
    "test = test_list[10].split(',')\n",
    "n.query(np.asfarray(test[1:]))\n",
    "output_neuralnetwork = np.argmax(n.query(np.asfarray(test[1:])))\n",
    "output_neuralnetwork"
   ]
  },
  {
   "cell_type": "code",
   "execution_count": 41,
   "id": "3ead8e7b",
   "metadata": {},
   "outputs": [
    {
     "data": {
      "text/plain": [
       "<matplotlib.image.AxesImage at 0x1fcbee4a3a0>"
      ]
     },
     "execution_count": 41,
     "metadata": {},
     "output_type": "execute_result"
    },
    {
     "data": {
      "image/png": "[encoded data removed]",
      "text/plain": [
       "<Figure size 432x288 with 1 Axes>"
      ]
     },
     "metadata": {
      "needs_background": "light"
     },
     "output_type": "display_data"
    }
   ],
   "source": [
    "#目标数字\n",
    "test  = test_list[10].split(',')\n",
    "image = np.asfarray(test[1:]).reshape((28,28))\n",
    "plt.imshow(image,cmap='Greys',interpolation='None')"
   ]
  },
  {
   "cell_type": "code",
   "execution_count": 62,
   "id": "14675c41",
   "metadata": {},
   "outputs": [],
   "source": [
    "#计算神经网络的正确率\n",
    "scorecard = []\n",
    "for test_data in test_list:\n",
    "    output_target = int(test_data.split(',')[0])\n",
    "    output_neuralnetwork = np.argmax(n.query(np.asfarray(test_data.split(',')[1:])))\n",
    "    if (output_target == output_neuralnetwork):\n",
    "        scorecard.append(1)\n",
    "    else:\n",
    "        scorecard.append(0)"
   ]
  },
  {
   "cell_type": "code",
   "execution_count": 63,
   "id": "a3e23c7b",
   "metadata": {},
   "outputs": [
    {
     "data": {
      "text/plain": [
       "0.9115"
      ]
     },
     "execution_count": 63,
     "metadata": {},
     "output_type": "execute_result"
    }
   ],
   "source": [
    "scorecard_array = np.asarray(scorecard)\n",
    "scorecard_array.sum()/10000"
   ]
  },
  {
   "cell_type": "code",
   "execution_count": null,
   "id": "45146e48",
   "metadata": {},
   "outputs": [],
   "source": []
  }
 ],
 "metadata": {
  "kernelspec": {
   "display_name": "Python 3 (ipykernel)",
   "language": "python",
   "name": "python3"
  },
  "language_info": {
   "codemirror_mode": {
    "name": "ipython",
    "version": 3
   },
   "file_extension": ".py",
   "mimetype": "text/x-python",
   "name": "python",
   "nbconvert_exporter": "python",
   "pygments_lexer": "ipython3",
   "version": "3.9.7"
  }
 },
 "nbformat": 4,
 "nbformat_minor": 5
}
